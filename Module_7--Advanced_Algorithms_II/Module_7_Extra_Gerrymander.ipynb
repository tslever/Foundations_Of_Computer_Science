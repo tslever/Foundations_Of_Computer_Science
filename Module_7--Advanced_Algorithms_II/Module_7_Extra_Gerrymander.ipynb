{
  "cells": [
    {
      "cell_type": "markdown",
      "metadata": {
        "id": "aUUsijeg_KV9"
      },
      "source": [
        "# **Gerrymandering HW**\n",
        "\n",
        "**Instructions**\n",
        "\n",
        "\n",
        "Implement a dynamic programming solution to the Gerrymandering Problem as defined in class and in accompanying presentation. Test code on synthetic and real data set(s) as indicated in exercises below. Include the names and UVA IDs of all persons in your group. \n",
        "\n",
        "---"
      ]
    },
    {
      "cell_type": "markdown",
      "metadata": {
        "id": "D18KkNxwEDEw"
      },
      "source": [
        "A special thanks to\n",
        "Robbie Hott,\n",
        "Alexander DeLuca,\n",
        "Kelly Farrell,\n",
        "Samy Kebaish,\n",
        "Grant Redfield,\n",
        "Matthew Sachs,\n",
        "Anita Taucher,"
      ]
    },
    {
      "cell_type": "markdown",
      "metadata": {
        "id": "SSTFnF4iqfBQ"
      },
      "source": [
        "### Storage\n",
        "For data storage and retrieval SQLite is used.  Here, we establish a connection to the database and define a cursor to be used throughout."
      ]
    },
    {
      "cell_type": "code",
      "execution_count": 1,
      "metadata": {
        "id": "gnyphm3hrXdE"
      },
      "outputs": [],
      "source": [
        "import sqlite3 # https://docs.python.org/3/library/sqlite3.html\n",
        "import pandas as pd\n",
        "import matplotlib.pyplot as plt\n",
        "import scipy.stats  as stats\n",
        "import math\n",
        "import numpy as np\n",
        "\n",
        "## Establish a connection to our database\n",
        "conn = sqlite3.connect('gerrymander.db')\n",
        "\n",
        "## Create a cursor to execute commands through the connection\n",
        "cursor = conn.cursor()\n"
      ]
    },
    {
      "cell_type": "code",
      "execution_count": 2,
      "metadata": {
        "id": "nEH2Zat2rowu"
      },
      "outputs": [],
      "source": [
        "## When recreate is True,  drop all database tables and recreate them for an updated, clean deployment.\n",
        "\n",
        "recreate = True\n",
        "\n",
        "if recreate == True:\n",
        "\n",
        "  cursor.execute(\"DROP TABLE IF EXISTS precinct\")\n",
        "  cursor.execute(\"DROP TABLE IF EXISTS party\")\n",
        "  cursor.execute(\"DROP VIEW IF EXISTS for_algo\")\n",
        "  conn.commit()\n",
        "\n",
        "  # Quick verification to make sure everything was dropped\n",
        "  cursor.execute(\"SELECT name FROM sqlite_master WHERE type='table'\")\n",
        "  cursor.fetchall()"
      ]
    },
    {
      "cell_type": "markdown",
      "metadata": {
        "id": "5GJyNeC_5KpK"
      },
      "source": [
        "### Data and scripts on GitHub\n",
        "The scripts for building the database, including the data and schema, are in a github repository. urllib3 library is used to communicate over https.  "
      ]
    },
    {
      "cell_type": "code",
      "execution_count": 3,
      "metadata": {
        "id": "bjs2nOzOqghR"
      },
      "outputs": [],
      "source": [
        "## SQL Scripts are in Github\n",
        "## prepare to read from github\n",
        "import urllib3\n",
        "urllib3.disable_warnings(urllib3.exceptions.InsecureRequestWarning)\n",
        "gitread = urllib3.PoolManager()"
      ]
    },
    {
      "cell_type": "markdown",
      "metadata": {
        "id": "KTgSM3YsAd0b"
      },
      "source": [
        "## 1) Provide an Introduction (10 pts)\n",
        "\n",
        "\n",
        "Provide a Formal Problem Statement, define all variables needed, and *state all assumptions.* \n",
        "\n",
        "*Problem Statement: Gerrymandering*\n",
        "\n",
        "The purpose of this problem is to study Dynamic Programming by considering a Gerrymandering case study. Gerrymandering is the manipulation of electoral district boundaries to favor one's political party over other political parties. Gerrymandering is redistricting to benefit one or more political parties. A \"Gerrymander\" was depicted in an 1812 political cartoon after Governor Elbridge Gerry signed a bill that redistricted Massachusetts to benefit the Democratic-Republican Party. Virginia's fifth district looks like the original Gerrymander. Gerrymandering in the United States may be unconstitutional. According to [Politico](https://www.politico.com/story/2017/10/03/supreme-court-gerrymandering-wisconsin-arguments-243401), in 2017 Supreme Court Associate Justice Anthony Kennedy believed that extreme partisan Gerrymandering might violate the Constitution. On 09/03/2019, in Common Cause v. Lewis, the Wake County Superior Court ruled that a state legislative map violated the North Carolina Constitution. In hearings after Bethune-Hill v. Virginia State Board of Elections was remanded on 03/01/2017, the United States District Court for the Eastern District of Virginia held that redistricting in 2011 involved unconstitutional racial Gerrymandering. On 06/27/2019, in Rucho v. Common Cause, the Supreme Court of the United States ruled that federal courts cannot review allegations of partisan Gerrymandering.\n",
        "\n",
        "Gerrymandering works by political parties maximizing the number of districts in a state with a majority of voters favoring that party.  Districts in a state have roughly the same number of voters. States and districts are composed of precincts. All precincts have the same number of voters.\n",
        "\n",
        "We can conduct Gerrymandering as follows. Consider a set of precincts $P = \\{p_1, p_2, ..., p_n\\}$ representing all voters in a state. Let a precinct $p$ contain $m$ voters. The state has $s = mn$ voters. Define a district $D$ as a proper subset of $P$. Determine $d$ districts $D_1, D_2, ..., D_d$ that represent all voters in a state and meet the following criteria. $d = 2$. The number of precincts in $D_1$ is equal to the number of precincts in $D_2$. By extension, the number of voters in $D_1$ is equal to the number of voters in $D_2$. The sum of the number of voters $R(D_1)$ and $R(D_2)$ in $D_1$ and $D_2$ who favor party $R$ is greater than $\\frac{s}{2}$. By extension, the number of voters $R(D_1)$ or $R(D_2)$ in $D_1$ or $D_2$ who favor party $R$ is greater than $\\frac{s}{2d} = \\frac{s}{4}$. Note if such districts cannot be determined. "
      ]
    },
    {
      "cell_type": "markdown",
      "metadata": {
        "id": "iMX-aytKpLAI"
      },
      "source": [
        "# 2) Dynamic Programming Solution. (20 pts)\n",
        "\n",
        "Formally define the solution and state the recurrence used. Identify how it employs dynamic programming and clearly explain and justify. \n",
        "\n",
        "Solution must 1) Determine if Gerrymandering is possible and if gerrymandering is possible 2) provide the associated precinct re-assignment. Be clear and explain how.\n",
        "\n",
        "Dynamic Programming is a way of solving complex problems by dividing them into similar sub-problems, and then combining the solutions of sub-problems to achieve an overall \"optimal\" solution. The results of sub-problems are memoized; i.e., stored to avoid working on the same sub-problem again and to eliminate unnecessary repetition. Dynamic Programming seeks to solve each sub-problem only once.\n",
        "\n",
        "Dynamic Programming requires \"optimal substructure\"; the solution to a larger problem must contain the solutions to smaller problems.\n",
        "\n",
        "To conduct Dynamic Programming, we will identify a recursive structure of our problem. We will select a good order for solving subproblems. We may solve each problem in a \"top down\" manner or recursively. We may solve each problem in a \"bottom up\" manner or iteratively from smallest problem to largest problem. We will save the solution to each subproblem in memory.\n",
        "\n",
        "We formally define a Dynamic Programming Solution as follows. Let boolean $b(j, k, x, y)$ be true if there exists an assignment of the first $j$ precincts in a state such that exactly $k$ precincts are assigned to district $D_1$, $x$ voters in those $k$ precincts in $D_1$ favor party $R$, and exactly $y$ voters in the remaining $j - k$ precincts in district $D_2$ favor party $R$. We define $b(0, 0, 0, 0)$ to be true and $b(0, k, x, y)$ to be false. Recall that $n$ is the number of precincts in the state. The goal of Gerrymandering is to see if there exists a value $x > \\frac{s}{4}$ and a value $y > \\frac{s}{4}$ such that $b\\left(n, \\frac{n}{2}, x, y\\right)$ is true.\n",
        "\n",
        "Suppose $b(j, k, x, y)$ is true and there are precincts $p_1$, $p_2$, ..., $p_j$ in the state. $p_j$ must be in either $D_1$ or $D_2$.\n",
        "\n",
        "If $p_j$ is in $D_1$, then $b(j, k, x, y)$ is true if $b(j - 1, k - 1, x - R(p_j), y)$ is true; i.e., if we can assign $k - 1$ out of the first $j - 1$ precincts to $D_1$ such that exactly $x - R(p_j)$ voters in $D_1$ favor $R$ and exactly $y$ voters in $D_2$ favor $R$. If we can, then we can assign $k$ out of the first $j$ precincts to $D_1$ such that exactly $x$ voters in $D_1$ favor $R$ and exactly $y$ voters in $D_2$ favor $R$.\n",
        "\n",
        "If $p_j$ is in $D_2$, then $b(j, k, x, y)$ is true if $b(j - 1, k, x, y - R(p_j))$ is true; i.e., if we can assign $k$ out of the first $j - 1$ precincts to $D_1$ such that exactly $x$ voters in $D_1$ favor $R$ and exactly $y - R(p_j)$ voters in $D_2$ favor $R$. If we can, then we can assign $k$ out of the first $j$ precincts to $D_1$ such that exactly $x$ voters in $D_1$ favor $R$ and exactly $y$ voters in $D_2$ favor $R$.\n",
        "\n",
        "Since $p_j$ is in $D_1$ or $D_2$, $b(j, k, x, y)$ is true if $b(j - 1, k - 1, x - R(p_j), y)$ is true or $b(j - 1, k, x, y - R(p_j))$. In math, $b(j, k, x, y) = b(j - 1, k - 1, x - R(p_j), y) OR b(j - 1, k, x, y - R(p_j))$.\n",
        "\n",
        "Because each boolean refers only to booleans with a smaller first index $j - 1$, Gerrymandering exhibits the optimal substructure and overlapping subproblem requirements for dynamic programming.\n",
        "\n",
        "Use a tabulation algorithm to determine whether Gerrymanding is possible.\n",
        "\n",
        "```\n",
        "Let s be number of voters in state.\n",
        "Let goal equal s / 4. Each district needs a number of voters favoring party R that is greater than goal.\n",
        "Create a 4D Boolean array b[j][k][x][y] where j ranges from 0 to n, k ranges from 0 to n, x ranges from 0 to s, and y ranges from 0 to s.\n",
        "Create a 4D character array parent[j][k][x][y] that stores '1' if p_j was put in D_1 and '2' if p_j was put in D_2.\n",
        "Set b[0][0][0][0] to True.\n",
        "for j in [1, n]:\n",
        "    Define r to be R(p_j), the number of voters in precinct p_j who favor party R.\n",
        "    for k in [0, j]:\n",
        "        for x in [0, s]:\n",
        "            for y in [0, s]:\n",
        "                if (k > 0 and x >= r and b[j-1][k-1][x-r][y]) or (y >= r and b[j-1][k][x][y-r]):\n",
        "                    Set b[j][k][x][y] to True.\n",
        "                    Set parent[j][k][x][y] to '1' if (k > 0 and x >= r and b[j-1][k-1][x-r][y]) or '2' otherwise.\n",
        "\n",
        "for x in [goal + 1, s]:\n",
        "    for y in [goal + 1, s]:\n",
        "        if b[n][n/2][x][y] is True:\n",
        "            Gerrymandering is possible.\n",
        "            Reconstruct assignment.\n",
        "            Record j, k, x, and y.\n",
        "            Stop.\n",
        "Gerrymandering is impossible.\n",
        "```\n",
        "\n",
        "If Gerrymandering is possible, we add p_j, p_{j-1}, ...., p_0 to D_1 or D_2.\n",
        "\n",
        "```\n",
        "Define D_1 to be an empty set of precincts.\n",
        "Define D_2 to be an empty set of precincts.\n",
        "while j > 0:\n",
        "    if parent[j][k][x][y] equals '1':\n",
        "        Add p_j to D_1.\n",
        "        Set k to k - 1.\n",
        "        Set x to x - R(p_j).\n",
        "    otherwise:\n",
        "        Add p_j to D2.\n",
        "        Set y to y - R(p_j).\n",
        "    Set j to j - 1.\n",
        "Reverse D_1.\n",
        "Reverse D_2.\n",
        "```"
      ]
    },
    {
      "cell_type": "markdown",
      "metadata": {
        "id": "PUtLkgvJ241n"
      },
      "source": [
        "# 3) Implement your Gerrymandering Algorithm (code) (40 pts)\n",
        "\n",
        "Provide ample comments and justify each line of code. You may wish to use or implement a sparse matrix (or something similar) to store the \"memos\"."
      ]
    },
    {
      "cell_type": "code",
      "execution_count": 4,
      "metadata": {
        "id": "AJpRKbIi22Wo"
      },
      "outputs": [],
      "source": [
        "import pandas as pd # Import pandas for processing data frames.\n",
        "from collections import defaultdict # Import defaultdict for defining a sparse memo.\n",
        "\n",
        "\n",
        "def helpDetermineWhetherGerrymanderPossible(precinct_data: pd.DataFrame):\n",
        "    '''\n",
        "    Decide whether the precincts of the provided data frame can be split into 2 districts with the same number of precincts\n",
        "    such that the majority of voters in each district favor party R.\n",
        "\n",
        "    Parameters\n",
        "    precinct_data is a data frame with column \"REP_VOTES\" containing numbers of voters who favor party R in various precincts.\n",
        "\n",
        "    Returns\n",
        "    An indicator of whether Gerrymanding is possible is returned.\n",
        "    A data frame of assignments of precincts to district is returned if the indicator is True. Otherwise None is returned.\n",
        "\n",
        "    Side Effects\n",
        "    This function prints an assignment of precincts to districts when Gerrymandering is possible.\n",
        "    '''\n",
        "\n",
        "    if \"Total_Votes\" in precinct_data.columns:\n",
        "        array_of_unique_total_values = precinct_data[\"Total_Votes\"].unique()\n",
        "        if len(array_of_unique_total_values) != 1:\n",
        "            raise ValueError(\"All precincts must contain the same number of voters.\")\n",
        "        voters_per_precinct = int(array_of_unique_total_values[0])\n",
        "    else:\n",
        "        voters_per_precinct = 100\n",
        "\n",
        "    precincts_per_district = len(precinct_data) // 2\n",
        "    votes_per_district = precincts_per_district * voters_per_precinct\n",
        "    number_of_voters_needed_in_each_district = votes_per_district / 2\n",
        "\n",
        "    # Check that column \"REP_VOTES\" is present so that the following code does not fail.\n",
        "    if \"REP_VOTES\" not in precinct_data.columns:\n",
        "        raise ValueError(\"DataFrame must contain column \\\"REP_VOTES\\\".\")\n",
        "    \n",
        "    # Extract list of numbers of voters who favor party R for various purposes.\n",
        "    list_of_numbers_of_voters_who_favor_party_R = precinct_data[\"REP_VOTES\"].tolist()\n",
        "\n",
        "    # Extract precinct IDs and numbers of voters who favor party R for printing precinct split.\n",
        "    list_of_IDs_of_precincts = precinct_data.index.tolist()\n",
        "\n",
        "    # The number of precincts in the state must be even so that each district can have half of the precincts.\n",
        "    number_of_precincts_in_state = len(list_of_numbers_of_voters_who_favor_party_R)\n",
        "    if number_of_precincts_in_state % 2 != 0:\n",
        "        raise ValueError(f\"The districts must have the same number of precincts.\")\n",
        "    \n",
        "    # Each district must have a number of voters who favor party R greater than majority\n",
        "    # so that the 2 districts together have a majority of voters who favor R in the state.\n",
        "    number_of_voters_who_favor_party_R_in_state = sum(list_of_numbers_of_voters_who_favor_party_R)\n",
        "    \n",
        "    # j is the number of the first precincts that have been placed in districts.\n",
        "    # k is the number of the first j processed precincts that have been placed in district D_1.\n",
        "    # x is the total number of voters who favor party R in D_1.\n",
        "    # y is the total number of voters who favor party R in D_2.\n",
        "    # Create a sparse memo to minimize memory usage when the number of possible configurations of precincts is huge.\n",
        "    # memo is a dictionary that maps values of k to sets of values of x\n",
        "    # achievable after added a set of precincts {p_1, p_2, ..., p_j} to D_1 or D_2.\n",
        "    # A redundant state is a tuple (j, k, x, y).\n",
        "    # y can be determined based on j, k, and x.\n",
        "    # A full state is a tuple (j, k, x).\n",
        "    # A reachable full state is a full state reflecting a concrete assignment of the first j precincts.\n",
        "    # A j-based state is a tuple (k, x).\n",
        "    # A reachable j-based state is a j-based state reflecting a concrete assignment of the first j precincts.\n",
        "    # memo represents all j-based states.\n",
        "    # Creating memo is more memory efficient than creating a dense 4D tensor of Booleans b[j][k][x][y] representing redundant states.\n",
        "    # Most permutations of values j, k, x, and y are not reachable.\n",
        "    memo = defaultdict(set)\n",
        "    memo[0].add(0) # With 0 precincts we have 0 voters who favor party R in D_1.\n",
        "\n",
        "    # parent is a dictionary that records, for every reachable full state (j, k, x),\n",
        "    # a tuple of the indices in the preceding j-based state and an indicator of which district the jth precinct was assigned.\n",
        "    # These items allow us to reconstruct 1 valid assignment of precincts to districts\n",
        "    # once Dynamic Programming has found a full state for which Gerrymandering is possible.\n",
        "    parent = {}\n",
        "\n",
        "    # Iterate over every precinct.\n",
        "    for j, r in enumerate(list_of_numbers_of_voters_who_favor_party_R, start = 1):\n",
        "        # j is the index of a precinct in [1, n] and the length of the set of precincts {p_1, p_2, ..., p_n}.\n",
        "        # r is the number of voters who favor party R in precinct j.\n",
        "        \n",
        "        next_memo = defaultdict(set) # We build our next memo from scratch.\n",
        "        \n",
        "        # For each currently reachable pair (k, x), branch on whether p_j is placed in D_1 or D_2.\n",
        "        for k, xs in memo.items(): # k represents the number of precincts in D_1.\n",
        "            for x in xs: # x represents the number of voters who favor party R in D_1.\n",
        "                if k + 1 <= number_of_precincts_in_state // 2: # We consider placing precinct j in district 1.\n",
        "                    \n",
        "                    # The number of precincts in District 1 k + 1 cannot exceed half of the number of precincts in the state.\n",
        "                    if x + r not in next_memo[k + 1]:\n",
        "                        \n",
        "                        # We store for each full state a tuple of the indices of the preceding j-based state and an indicator of D_1\n",
        "                        # because any single valid path indicates that Gerrymandering is possible and\n",
        "                        # allows us to build a concrete assignment of precincts to districts.\n",
        "                        parent[(j, k + 1, x + r)] = (k, x, 1) # 1 indicates district D_1.\n",
        "\n",
        "                    next_memo[k + 1].add(x + r)\n",
        "\n",
        "                # Consider placing precinct j in District 2.\n",
        "                # In this case, k and x remain unchanged.\n",
        "                if x not in next_memo[k]:\n",
        "                    parent[(j, k, x)] = (k, x, 2) # 2 indicates district D_2.\n",
        "                \n",
        "                next_memo[k].add(x)\n",
        "        memo = next_memo\n",
        "\n",
        "    # Search for any full state (n, n/2, x) for which  the numbers of voters who favor party R in both districts is greater than majority.\n",
        "    full_state = None\n",
        "    for x in memo.get(number_of_precincts_in_state // 2, set()): # District 1 must contain n/2 precincts.\n",
        "        y = number_of_voters_who_favor_party_R_in_state - x # District 2 has the voters in the remaining precincts.\n",
        "        if x > number_of_voters_needed_in_each_district and y > number_of_voters_needed_in_each_district:\n",
        "            # Both x and y must be greater than number of voters needed in each district.\n",
        "            full_state = (number_of_precincts_in_state, number_of_precincts_in_state // 2, x)\n",
        "            break\n",
        "    if full_state is None:\n",
        "        # We have exhausted all reachable full states without satisfying the majority condition.\n",
        "        # Gerrymandering is impossible.\n",
        "        return False, None\n",
        "    \n",
        "    # Reconstruct one concrete assignment of precincts to districts.\n",
        "    assignment = [None] * number_of_precincts_in_state # assignment holds 1 or 2 for each precinct.\n",
        "    j, k, x = full_state\n",
        "    while j > 0:\n",
        "        k_prev, x_prev, choice = parent[(j, k, x)]\n",
        "        assignment[j - 1] = choice\n",
        "        j, k, x = j - 1, k_prev, x_prev\n",
        "\n",
        "    # Print out the precinct split and voter split.    \n",
        "    # Print the precinct split, a data frame that lists every precinct and the district to which the precinct was assigned.\n",
        "    df = pd.DataFrame(\n",
        "        {\n",
        "            'Precinct' : list_of_IDs_of_precincts,\n",
        "            'RedVotes' : list_of_numbers_of_voters_who_favor_party_R,\n",
        "            'District' : assignment\n",
        "        }\n",
        "    )\n",
        "    print(df.to_string(index = False))\n",
        "    # Print the voter split, the numbers of voters who favor R in D_1 and D_2.\n",
        "    number_of_voters_who_favor_R_in_D1 = sum(r for r, lab in zip(list_of_numbers_of_voters_who_favor_party_R, assignment) if lab == 1)\n",
        "    number_of_voters_who_favor_R_in_D2 = sum(r for r, lab in zip(list_of_numbers_of_voters_who_favor_party_R, assignment) if lab == 2)\n",
        "    print(f\"The number of voters who favor party R in district D_1 is {number_of_voters_who_favor_R_in_D1}.\")\n",
        "    print(f\"The number of voters who favor party R in district D_2 is {number_of_voters_who_favor_R_in_D2}.\")\n",
        "\n",
        "    return True, assignment # True indicates that Gerrymandering is possible.\n",
        "\n",
        "\n",
        "def isGerrymanderPossible(precinct_data) -> bool:\n",
        "    '''\n",
        "    Determine if gerrymandering is possible given a dataframe that contains\n",
        "    REP voting and Total votes for precincts in two neighboring districts.\n",
        "    Return True or False, and if True, print out the precinct split and voter split.\n",
        "    '''\n",
        "    indicator, data_frame = helpDetermineWhetherGerrymanderPossible(precinct_data)\n",
        "    return indicator"
      ]
    },
    {
      "cell_type": "markdown",
      "metadata": {
        "id": "vNTUq_irpLAK"
      },
      "source": [
        "# 4) Algorithmic Analysis (10pts)\n",
        "Provide a time complexity analysis of your algorithms in terms of the size and /or parameters of the input. Be clear and precise. Provide comprehensive justification and state all assumptions. \n",
        "\n"
      ]
    },
    {
      "cell_type": "markdown",
      "metadata": {
        "id": "BFouLr3VRey6"
      },
      "source": [
        "# 5) Test your algorithm (5 pts)\n",
        "\n",
        "Run your algorithm on the example data set below. Is gerrymandering possible?\n",
        "Create two other synthtetic data sets (dataframes ... like the one below): one where gerrymandering is possible and one where gerrymandering is not possible. Confirm your hypothesis using your implementation. "
      ]
    },
    {
      "cell_type": "code",
      "execution_count": 5,
      "metadata": {
        "colab": {
          "base_uri": "https://localhost:8080/"
        },
        "id": "j0tloVafRd_I",
        "outputId": "ba629faa-aad5-4900-c7b3-89fdd64288e3"
      },
      "outputs": [
        {
          "name": "stdout",
          "output_type": "stream",
          "text": [
            " Precinct  RedVotes  District\n",
            "        0        65         2\n",
            "        1        60         1\n",
            "        2        45         1\n",
            "        3        47         2\n",
            "The number of voters who favor party R in district D_1 is 105.\n",
            "The number of voters who favor party R in district D_2 is 112.\n",
            "Gerrymandering is possible.\n",
            "\n",
            "---- Test 2 (should be POSSIBLE) ----\n",
            "Precinct  RedVotes  District\n",
            "       A        55         1\n",
            "       B        55         1\n",
            "       C        55         2\n",
            "       D        55         2\n",
            "The number of voters who favor party R in district D_1 is 110.\n",
            "The number of voters who favor party R in district D_2 is 110.\n",
            "Result: True\n",
            "\n",
            "---- Test 3 (should be IMPOSSIBLE) ----\n",
            "Result: False\n"
          ]
        }
      ],
      "source": [
        "'''\n",
        "precinct_data = pd.DataFrame()\n",
        "precinct_data = precinct_data.append(pd.DataFrame({\"PRECINCT\":\"DUMMY ROW\",\"District\": 0,\"REP_VOTES\":0, \"DEM_VOTES\": 0, \"Total_Votes\": 0},index=[0]))\n",
        "precinct_data = precinct_data.append(pd.DataFrame({\"PRECINCT\":\"92\",\"District\": 1,\"REP_VOTES\":65, \"DEM_VOTES\": 35, \"Total_Votes\": 100},index=[0]))\n",
        "precinct_data = precinct_data.append(pd.DataFrame({\"PRECINCT\":\"93\",\"District\": 1,\"REP_VOTES\":60, \"DEM_VOTES\": 40, \"Total_Votes\": 100},index=[0]))\n",
        "precinct_data = precinct_data.append(pd.DataFrame({\"PRECINCT\":\"94\",\"District\": 2,\"REP_VOTES\":45, \"DEM_VOTES\": 55, \"Total_Votes\": 100},index=[0]))\n",
        "precinct_data = precinct_data.append(pd.DataFrame({\"PRECINCT\":\"95\",\"District\": 2,\"REP_VOTES\":47, \"DEM_VOTES\": 53, \"Total_Votes\": 100},index=[0]))\n",
        "precinct_data.reset_index(inplace = True)    \n",
        "precinct_data.drop('index',axis=1,inplace=True)\n",
        "'''\n",
        "rows = [\n",
        "    {\"PRECINCT\": \"92\", \"District\": 1, \"REP_VOTES\": 65, \"DEM_VOTES\": 35, \"Total_Votes\": 100},\n",
        "    {\"PRECINCT\": \"93\", \"District\": 1, \"REP_VOTES\": 60, \"DEM_VOTES\": 40, \"Total_Votes\": 100},\n",
        "    {\"PRECINCT\": \"94\", \"District\": 2, \"REP_VOTES\": 45, \"DEM_VOTES\": 55, \"Total_Votes\": 100},\n",
        "    {\"PRECINCT\": \"95\", \"District\": 2, \"REP_VOTES\": 47, \"DEM_VOTES\": 53, \"Total_Votes\": 100},\n",
        "]\n",
        "precinct_data = pd.concat([pd.DataFrame([r]) for r in rows], ignore_index=True)\n",
        "\n",
        "\n",
        "LetsRun = isGerrymanderPossible(precinct_data)\n",
        "\n",
        "if LetsRun:\n",
        "    print(\"Gerrymandering is possible.\")\n",
        "else:\n",
        "    print(\"Gerrymandering is not possible.\")\n",
        "\n",
        "df_possible = pd.DataFrame(\n",
        "    {\"REP_VOTES\": [55, 55, 55, 55]}, index=[\"A\", \"B\", \"C\", \"D\"]\n",
        ")\n",
        "\n",
        "df_impossible = pd.DataFrame(\n",
        "    {\"REP_VOTES\": [90, 2, 2, 2]}, index=[\"X\", \"Y\", \"Z\", \"W\"]\n",
        ")\n",
        "\n",
        "print(\"\\n---- Test 2 (should be POSSIBLE) ----\")\n",
        "print(\"Result:\", isGerrymanderPossible(df_possible))\n",
        "\n",
        "print(\"\\n---- Test 3 (should be IMPOSSIBLE) ----\")\n",
        "print(\"Result:\", isGerrymanderPossible(df_impossible))"
      ]
    },
    {
      "cell_type": "markdown",
      "metadata": {
        "id": "wPARVGjCpLAM"
      },
      "source": [
        "# 6) Real-world Data Trials (15 pts) \n",
        "\n",
        "\n",
        "\n",
        "\n",
        "\n",
        "There are voter data from 5 states available herein: Alaska, Arizona, Kentucky, North Carolina, and Rhode Island. For this question you are asked to analyze Arizona and Kentucky Data. \n",
        "\n",
        "Note: In the example below the data is \"preprocessed\" to match our assumptions and downsized for reasonable experimental runtimes. "
      ]
    },
    {
      "cell_type": "markdown",
      "metadata": {
        "id": "JX_L9nP251-J"
      },
      "source": [
        "### Notes about the tables\n",
        "\n",
        "The create statements are stored in scripts in github including tables.sql.\n",
        "\n",
        "Two tables in the schema:  \n",
        "\n",
        "*  Precinct:  Holds all data for precincts, districts, and number of voter registrations by party.  There is a row for every party in each precinct, so precinct is not a unique key.  Additionally, within states, precinct is not unique, it must be used with district.\n",
        "\n",
        "* Party:  An id and party name, just to keep the party data consistent within our database - party names and abbreviations change between states, but here we want them to be consistent.  Party can be joined with precinct on precinct.party = party.id\n"
      ]
    },
    {
      "cell_type": "code",
      "execution_count": 6,
      "metadata": {
        "colab": {
          "base_uri": "https://localhost:8080/"
        },
        "id": "u_05MUkvDZzE",
        "outputId": "470fe47c-9c39-47bf-b772-2597661f7a3d"
      },
      "outputs": [
        {
          "name": "stdout",
          "output_type": "stream",
          "text": [
            "\n",
            "Tables in the Gerrymander Database\n",
            "\n",
            "\tprecinct\n",
            "\tparty\n"
          ]
        }
      ],
      "source": [
        "## Build the table structure\n",
        "## We have two tables:  party and precinct\n",
        "\n",
        "## The github url for the tables script\n",
        "create_tables = 'https://raw.githubusercontent.com/boltonvandy/gerrymander/main/State_Data/tables.sql'\n",
        "\n",
        "## GET contents of the tables.sql script from github\n",
        "dat = gitread.request(\"GET\", create_tables)\n",
        "\n",
        "## Execute the table creation commands \n",
        "cursor.executescript(dat.data.decode(\"utf-8\"))\n",
        "\n",
        "## Preprocess for algorithm to use\n",
        "view_def = ''' \n",
        "CREATE VIEW for_algo AS\n",
        "SELECT * FROM\n",
        "((SELECT STATE, PRECINCT, DISTRICT, VOTERS as REP_VOTES\n",
        "FROM precinct WHERE PARTY = 'REP') NATURAL JOIN (\n",
        "SELECT STATE, PRECINCT, DISTRICT, SUM(VOTERS) as Total_Votes\n",
        "FROM precinct\n",
        "WHERE (PARTY = 'REP' OR PARTY = 'DEM') \n",
        "GROUP BY STATE, PRECINCT, DISTRICT))\n",
        "'''\n",
        "    \n",
        "cursor.execute(view_def)\n",
        "\n",
        "\n",
        "## Commit Schema Changes\n",
        "conn.commit()\n",
        "\n",
        "## Confirm the names of the tables we built\n",
        "ourtables = cursor.execute(\"SELECT name FROM sqlite_master WHERE type='table'\")\n",
        "\n",
        "if ourtables:\n",
        "  print('\\nTables in the Gerrymander Database\\n')\n",
        "  for atable in ourtables:\n",
        "    print(\"\\t\"+atable[0])\n"
      ]
    },
    {
      "cell_type": "markdown",
      "metadata": {
        "id": "INZPOin09Mix"
      },
      "source": [
        "## Example usage: Arizona\n",
        "\n",
        "Here,the data from Arizona is loaded into the database.  \n",
        "\n",
        "[Original Arizona Data on Kaggle](https://www.kaggle.com/arizonaSecofState/arizona-voter-registration-by-precinct)"
      ]
    },
    {
      "cell_type": "code",
      "execution_count": 7,
      "metadata": {
        "colab": {
          "base_uri": "https://localhost:8080/"
        },
        "id": "FXaIP5nM2tDD",
        "outputId": "50757128-13bb-45e0-faee-d673f56a1eef"
      },
      "outputs": [
        {
          "name": "stdout",
          "output_type": "stream",
          "text": [
            "7270 [(1308384, 'REP'), (1251984, 'OTH'), (1169259, 'DEM'), (32096, 'LBT'), (6535, 'GRN')]\n"
          ]
        }
      ],
      "source": [
        "## Arizona\n",
        "cursor.execute(\"DELETE FROM precinct WHERE STATE = 'AZ'\")\n",
        "conn.commit()\n",
        "\n",
        "az_url = 'https://raw.githubusercontent.com/boltonvandy/gerrymander/main/State_Data/az/az.insert.sql'\n",
        "\n",
        "## GET contents of the script from a github url \n",
        "dat = gitread.request(\"GET\", az_url)\n",
        "\n",
        "## INSERT Data using statements from the github insert script\n",
        "cursor.executescript(dat.data.decode(\"utf-8\"))\n",
        "conn.commit()\n",
        "\n",
        "## Quick verification that data was loaded for this state\n",
        "cursor.execute(\"SELECT count(*) from precinct\")\n",
        "verify = cursor.fetchone()[0]\n",
        "\n",
        "cursor.execute(\"SELECT sum(voters), party from precinct where state = 'AZ' group by party order by 1 DESC\")\n",
        "print(verify, cursor.fetchall())"
      ]
    },
    {
      "cell_type": "markdown",
      "metadata": {
        "id": "LfwaHd8hjGSs"
      },
      "source": [
        "## 6a) Arizona Districts 1,2,&3   (5 out of 15 pts)\n",
        "\n",
        "In this example, assume Districts 1/2 and 2/3 are neighboring and that precincts can be reassigned between them. Confirm (both using your code and manually) that Gerrymandering is possible between districts 2 & 3, but not 1 & 2 (given the preprocessing steps, assumptions, and downsampling done below). For the former, what is the Precinct breakdown? Your answer should be shown as code output. \n"
      ]
    },
    {
      "cell_type": "code",
      "execution_count": 11,
      "metadata": {
        "colab": {
          "base_uri": "https://localhost:8080/"
        },
        "id": "ghZedtBJ4tDk",
        "outputId": "07f0a8fe-cd47-40cb-c411-d96885025d79"
      },
      "outputs": [
        {
          "name": "stdout",
          "output_type": "stream",
          "text": [
            "Districts 2 and 3:\n",
            "  STATE PRECINCT DISTRICT  REP_VOTES  Total_Votes\n",
            "0    AZ   CH0001        2         65          100\n",
            "1    AZ   CH0002        2         75          100\n",
            "2    AZ   CH0003        2         63          100\n",
            "3    AZ   CH0004        2         18          100\n",
            "4    AZ   MC0016        3         36          100\n",
            "5    AZ   MC0029        3         76          100\n",
            "6    AZ   MC0037        3         26          100\n",
            "7    AZ   MC0062        3         53          100\n",
            " Precinct  RedVotes  District\n",
            "        0        65         2\n",
            "        1        75         2\n",
            "        2        63         1\n",
            "        3        18         2\n",
            "        4        36         1\n",
            "        5        76         1\n",
            "        6        26         1\n",
            "        7        53         2\n",
            "The number of voters who favor party R in district D_1 is 201.\n",
            "The number of voters who favor party R in district D_2 is 211.\n",
            "GerryMandering Possible In Arizona District\n",
            "\n",
            "----- Gerrymandering trial for Arizona districts 1 & 2 -----\n",
            "Input precinct data for 2 districts rescaled to 100 voters per precinct is the following.\n",
            "STATE PRECINCT DISTRICT  REP_VOTES  Total_Votes\n",
            "   AZ   AP0002        1         75          100\n",
            "   AZ   AP0003        1         15          100\n",
            "   AZ   AP0005        1         17          100\n",
            "   AZ   AP0009        1         79          100\n",
            "   AZ   CH0001        2         64          100\n",
            "   AZ   CH0002        2         75          100\n",
            "   AZ   CH0003        2         63          100\n",
            "   AZ   CH0004        2         18          100\n",
            "isGerrymanderingPossible is being run on the precinct data for 2 districts.\n",
            "Gerrymandering is not possible for Arizona districts 1 & 2.\n",
            "We manually check that an assignment of precincts to districts resulting in Gerrymandered districts exists.\n",
            "helpDetermineWhetherGerrymanderPossible did not find an assignment.\n",
            "We conclude that Gerrymandering is not possible.\n",
            "-----\n",
            "\n",
            "----- Gerrymandering trial for Arizona districts 2 & 3 -----\n",
            "Input precinct data for 2 districts rescaled to 100 voters per precinct is the following.\n",
            "STATE PRECINCT DISTRICT  REP_VOTES  Total_Votes\n",
            "   AZ   CH0001        2         65          100\n",
            "   AZ   CH0002        2         75          100\n",
            "   AZ   CH0003        2         63          100\n",
            "   AZ   CH0004        2         18          100\n",
            "   AZ   MC0016        3         36          100\n",
            "   AZ   MC0029        3         76          100\n",
            "   AZ   MC0037        3         26          100\n",
            "   AZ   MC0062        3         53          100\n",
            "isGerrymanderingPossible is being run on the precinct data for 2 districts.\n",
            " Precinct  RedVotes  District\n",
            "        0        65         2\n",
            "        1        75         2\n",
            "        2        63         1\n",
            "        3        18         2\n",
            "        4        36         1\n",
            "        5        76         1\n",
            "        6        26         1\n",
            "        7        53         2\n",
            "The number of voters who favor party R in district D_1 is 201.\n",
            "The number of voters who favor party R in district D_2 is 211.\n",
            "Gerrymandering is possible for Arizona districts 2 & 3.\n",
            "The table printed above by the algorithm shows 1 valid precinct reassignment and the resulting per-district R totals.\n",
            "We manually check that the numbers of voters who favor party R in each district are greater than 200.\n",
            "Below are new precincts in the first district and the numbers of voters who favor party R in those precincts.\n",
            "PRECINCT  REP_VOTES\n",
            "  CH0003         63\n",
            "  MC0016         36\n",
            "  MC0029         76\n",
            "  MC0037         26\n",
            "The total number of voters who favor party R in the first district is 201.\n",
            "Below are new precincts in the second district and the numbers of voters who favor party R in those precincts.\n",
            "PRECINCT  REP_VOTES\n",
            "  CH0001         65\n",
            "  CH0002         75\n",
            "  CH0004         18\n",
            "  MC0062         53\n",
            "The total number of voters who favor party R in the second district is 211.\n",
            "It is true that each district has more than 200 voters who favor party R.\n",
            "-----\n"
          ]
        }
      ],
      "source": [
        "import math\n",
        "\n",
        "\n",
        "def show_revised_district_totals(df_pair: pd.DataFrame, assignment: list | None) -> None:\n",
        "    if assignment is None:\n",
        "        print(\n",
        "            \"We manually check that an assignment of precincts to districts resulting in Gerrymandered districts exists.\\n\"\n",
        "            \"helpDetermineWhetherGerrymanderPossible did not find an assignment.\\n\"\n",
        "            \"We conclude that Gerrymandering is not possible.\"\n",
        "        )\n",
        "        return\n",
        "    print(\"We manually check that the numbers of voters who favor party R in each district are greater than 200.\")\n",
        "    df_pair[\"new_number_of_district\"] = assignment\n",
        "    d1 = df_pair[df_pair[\"new_number_of_district\"] == 1]\n",
        "    d2 = df_pair[df_pair[\"new_number_of_district\"] == 2]\n",
        "    d1_total = d1[\"REP_VOTES\"].sum()\n",
        "    d2_total = d2[\"REP_VOTES\"].sum()\n",
        "    print(\"Below are new precincts in the first district and the numbers of voters who favor party R in those precincts.\")\n",
        "    print(d1[[\"PRECINCT\", \"REP_VOTES\"]].to_string(index = False))\n",
        "    print(f\"The total number of voters who favor party R in the first district is {d1_total}.\")\n",
        "    print(\"Below are new precincts in the second district and the numbers of voters who favor party R in those precincts.\")\n",
        "    print(d2[[\"PRECINCT\", \"REP_VOTES\"]].to_string(index = False))\n",
        "    print(f\"The total number of voters who favor party R in the second district is {d2_total}.\")\n",
        "    print(f\"It is {\"true\" if d1_total > 200 and d2_total > 200 else \"false\"} that each district has more than 200 voters who favor party R.\")\n",
        "\n",
        "\n",
        "def run_gerrymander_trial(df_pair: pd.DataFrame, label: str) -> None:\n",
        "\n",
        "    print(f\"\\n----- Gerrymandering trial for {label} -----\")\n",
        "    print(\"Input precinct data for 2 districts rescaled to 100 voters per precinct is the following.\")\n",
        "    print(df_pair.to_string(index = False))\n",
        "    print(\"isGerrymanderingPossible is being run on the precinct data for 2 districts.\")\n",
        "    possible, assignment = helpDetermineWhetherGerrymanderPossible(df_pair)\n",
        "    verdict = \"is possible\" if possible else \"is not possible\"\n",
        "    print(f\"Gerrymandering {verdict} for {label}.\")\n",
        "    if possible:\n",
        "      print(\"The table printed above by the algorithm shows 1 valid precinct reassignment and the resulting per-district R totals.\")\n",
        "    show_revised_district_totals(df_pair, assignment)\n",
        "    print(\"-----\")\n",
        "\n",
        "# To inspect the raw data see here: https://github.com/boltonvandy/gerrymander/tree/main/State_Data\n",
        "\n",
        "# Using top 4 precincts only for each district \n",
        "# Districts 1 and 2 are not gerrymanderable\n",
        "# Districts 2 and 3 are gerrymanderable \n",
        "# Feel free to use the following preprocessing steps\n",
        "#   and downsampling scheme for all experimental trials \n",
        "# Here we assume only 2 parties (Rep and Dem), all voters vote along party lines, and data is \n",
        "#   rescaled to 100 total voters per precinct.\n",
        "\n",
        "\n",
        "# First query database by district and state, take top 4 \n",
        "#   precincts, and append both districts into one dataframe\n",
        "\n",
        "sql = '''\n",
        "SELECT * FROM for_algo WHERE state = 'AZ' AND (DISTRICT = 1)\n",
        "'''\n",
        "Arizona_dh = pd.read_sql_query(sql, conn).head(4)\n",
        "\n",
        "sql = '''\n",
        "SELECT * from for_algo where state = 'AZ' AND (DISTRICT = 2) \n",
        "'''\n",
        "Arizona_di = pd.read_sql_query(sql, conn)\n",
        "Arizona_di = Arizona_di.head(4)\n",
        "\n",
        "sql = '''\n",
        "SELECT * from for_algo where state = 'AZ' AND ( DISTRICT = 3) \n",
        "'''\n",
        "Arizona_dj = pd.read_sql_query(sql, conn)\n",
        "Arizona_dj = Arizona_dj.head(4)\n",
        "\n",
        "Arizona_1_2 = pd.concat([Arizona_dh, Arizona_di], ignore_index = True)\n",
        "'''\n",
        "Arizona = Arizona_di.append(Arizona_dj)\n",
        "Arizona = Arizona.reset_index(drop=True)\n",
        "'''\n",
        "Arizona = pd.concat([Arizona_di, Arizona_dj], ignore_index=True)\n",
        "\n",
        "# Rescale data to match our assumptions (for these trials)\n",
        "\n",
        "Arizona_1_2[\"REP_VOTES\"] = (Arizona_1_2[\"REP_VOTES\"] / Arizona_1_2[\"Total_Votes\"] * 100).round().astype(int)\n",
        "Arizona_1_2[\"Total_Votes\"] = 100\n",
        "Arizona[\"REP_VOTES\"] = Arizona[\"REP_VOTES\"] / Arizona[\"Total_Votes\"] \n",
        "Arizona[\"REP_VOTES\"] = pd.Series([math.ceil(Arizona[\"REP_VOTES\"][x]*100) for x in range(len(Arizona.index))])\n",
        "Arizona[\"Total_Votes\"] = pd.Series([100 for x in range(len(Arizona.index))])\n",
        "\n",
        "#Arizona.sort_values(by=['REP_VOTES'], ascending=False ,inplace=True)\n",
        "\n",
        "print(\"Districts 2 and 3:\")\n",
        "print(Arizona)\n",
        "\n",
        "if isGerrymanderPossible(Arizona):\n",
        "  print(\"GerryMandering Possible In Arizona District\")\n",
        "else:\n",
        "  print(\"GerryMandering Not Possible In Arizona District\")\n",
        "\n",
        "run_gerrymander_trial(Arizona_1_2, \"Arizona districts 1 & 2\")\n",
        "run_gerrymander_trial(Arizona, \"Arizona districts 2 & 3\")"
      ]
    },
    {
      "cell_type": "markdown",
      "metadata": {
        "id": "Km2xsQtcB5FC"
      },
      "source": [
        "### 6b) Kentucky Districts   (10 out of 15 pts)\n",
        "\n",
        "In this example, find two districts that are gerrymanderable and two that are not. Perform similar preprocessing steps as done in the Arizona data set, eg select 4 precincts, downsample and rescale. Confirm both district pairs using your code and manually. For the district pair that is gerrymanderable, what is the Precinct breakdown? Your answer should be shown as code output. \n"
      ]
    },
    {
      "cell_type": "code",
      "execution_count": 9,
      "metadata": {
        "colab": {
          "base_uri": "https://localhost:8080/"
        },
        "id": "lKtyVWzivSC7",
        "outputId": "1775f182-c04f-4ec1-c797-5d84b362c3ed"
      },
      "outputs": [
        {
          "name": "stdout",
          "output_type": "stream",
          "text": [
            "40498 [(1649790, 'DEM'), (1576259, 'REP'), (184839, 'OTH'), (131242, 'IND'), (14326, 'LBT'), (2014, 'GRN'), (1012, 'CONST'), (322, 'SOCWK'), (157, 'REFORM')]\n"
          ]
        }
      ],
      "source": [
        "## Kentucky!\n",
        "# NOTE: the Kentucky Districts are stored as Strings. Be sure to build your query correctly :)\n",
        "# See here: https://github.com/boltonvandy/gerrymander/tree/main/State_Data\n",
        "\n",
        "cursor.execute(\"DELETE FROM precinct WHERE STATE = 'KY'\")\n",
        "conn.commit()\n",
        "\n",
        "ky_url = 'https://raw.githubusercontent.com/boltonvandy/gerrymander/main/State_Data/ky/ky.insert.sql'\n",
        "\n",
        "## GET contents of the script from a github url \n",
        "dat = gitread.request(\"GET\", ky_url)\n",
        "\n",
        "## INSERT Data using statements from the github insert script\n",
        "cursor.executescript(dat.data.decode(\"utf-8\"))\n",
        "conn.commit()\n",
        "\n",
        "## Quick verification that data was loaded for this state\n",
        "cursor.execute(\"SELECT count(*) from precinct\")\n",
        "verify = cursor.fetchone()[0]\n",
        "\n",
        "cursor.execute(\"SELECT sum(voters), party from precinct where state = 'KY' group by party order by 1 DESC\")\n",
        "print(verify, cursor.fetchall())"
      ]
    },
    {
      "cell_type": "code",
      "execution_count": 10,
      "metadata": {
        "id": "VLjXj5R4jPgz"
      },
      "outputs": [],
      "source": [
        "#Kentucky\n",
        "\n",
        "#<Insert code answer here>"
      ]
    }
  ],
  "metadata": {
    "colab": {
      "collapsed_sections": [],
      "name": "5012_Mod7_Gerrymander",
      "provenance": []
    },
    "kernelspec": {
      "display_name": "env",
      "language": "python",
      "name": "python3"
    },
    "language_info": {
      "codemirror_mode": {
        "name": "ipython",
        "version": 3
      },
      "file_extension": ".py",
      "mimetype": "text/x-python",
      "name": "python",
      "nbconvert_exporter": "python",
      "pygments_lexer": "ipython3",
      "version": "3.13.3"
    }
  },
  "nbformat": 4,
  "nbformat_minor": 0
}
