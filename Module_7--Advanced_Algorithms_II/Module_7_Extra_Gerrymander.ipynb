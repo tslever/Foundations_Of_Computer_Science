{
  "cells": [
    {
      "cell_type": "markdown",
      "metadata": {
        "id": "aUUsijeg_KV9"
      },
      "source": [
        "# **Gerrymandering HW**\n",
        "\n",
        "**Instructions**\n",
        "\n",
        "\n",
        "Implement a dynamic programming solution to the Gerrymandering Problem as defined in class and in accompanying presentation. Test code on synthetic and real data set(s) as indicated in exercises below. Include the names and UVA IDs of all persons in your group. \n",
        "\n",
        "---"
      ]
    },
    {
      "cell_type": "markdown",
      "metadata": {
        "id": "D18KkNxwEDEw"
      },
      "source": [
        "A special thanks to\n",
        "Robbie Hott,\n",
        "Alexander DeLuca,\n",
        "Kelly Farrell,\n",
        "Samy Kebaish,\n",
        "Grant Redfield,\n",
        "Matthew Sachs,\n",
        "Anita Taucher,"
      ]
    },
    {
      "cell_type": "markdown",
      "metadata": {
        "id": "SSTFnF4iqfBQ"
      },
      "source": [
        "### Storage\n",
        "For data storage and retrieval SQLite is used.  Here, we establish a connection to the database and define a cursor to be used throughout."
      ]
    },
    {
      "cell_type": "code",
      "execution_count": 4,
      "metadata": {
        "id": "gnyphm3hrXdE"
      },
      "outputs": [],
      "source": [
        "import sqlite3 # https://docs.python.org/3/library/sqlite3.html\n",
        "import pandas as pd\n",
        "import matplotlib.pyplot as plt\n",
        "import scipy.stats  as stats\n",
        "import math\n",
        "import numpy as np\n",
        "\n",
        "## Establish a connection to our database\n",
        "conn = sqlite3.connect('gerrymander.db')\n",
        "\n",
        "## Create a cursor to execute commands through the connection\n",
        "cursor = conn.cursor()\n"
      ]
    },
    {
      "cell_type": "code",
      "execution_count": 5,
      "metadata": {
        "id": "nEH2Zat2rowu"
      },
      "outputs": [],
      "source": [
        "## When recreate is True,  drop all database tables and recreate them for an updated, clean deployment.\n",
        "\n",
        "recreate = True\n",
        "\n",
        "if recreate == True:\n",
        "\n",
        "  cursor.execute(\"DROP TABLE IF EXISTS precinct\")\n",
        "  cursor.execute(\"DROP TABLE IF EXISTS party\")\n",
        "  cursor.execute(\"DROP VIEW IF EXISTS for_algo\")\n",
        "  conn.commit()\n",
        "\n",
        "  # Quick verification to make sure everything was dropped\n",
        "  cursor.execute(\"SELECT name FROM sqlite_master WHERE type='table'\")\n",
        "  cursor.fetchall()\n",
        "\n"
      ]
    },
    {
      "cell_type": "markdown",
      "metadata": {
        "id": "5GJyNeC_5KpK"
      },
      "source": [
        "### Data and scripts on GitHub\n",
        "The scripts for building the database, including the data and schema, are in a github repository. urllib3 library is used to communicate over https.  "
      ]
    },
    {
      "cell_type": "code",
      "execution_count": 7,
      "metadata": {
        "id": "bjs2nOzOqghR"
      },
      "outputs": [],
      "source": [
        "## SQL Scripts are in Github\n",
        "## prepare to read from github\n",
        "import urllib3\n",
        "urllib3.disable_warnings(urllib3.exceptions.InsecureRequestWarning)\n",
        "gitread = urllib3.PoolManager()\n"
      ]
    },
    {
      "cell_type": "markdown",
      "metadata": {
        "id": "KTgSM3YsAd0b"
      },
      "source": [
        "## 1) Provide an Introduction (10 pts)\n",
        "\n",
        "\n",
        "Provide a Formal Problem Statement, define all variables needed, and *state all assumptions.* \n",
        "\n",
        "*Problem Statement: Gerrymandering*\n",
        "\n",
        "The purpose of this problem is to study Dynamic Programming by considering a Gerrymandering case study. Gerrymandering is the manipulation of electoral district boundaries to favor one's political party over other political parties. Gerrymandering is redistricting to benefit one or more political parties. A \"Gerrymander\" was depicted in an 1812 political cartoon after Governor Elbridge Gerry signed a bill that redistricted Massachusetts to benefit the Democratic-Republican Party. Virginia's fifth district looks like the original Gerrymander. Gerrymandering in the United States may be unconstitutional. According to [Politico](https://www.politico.com/story/2017/10/03/supreme-court-gerrymandering-wisconsin-arguments-243401), in 2017 Supreme Court Associate Justice Anthony Kennedy believed that extreme partisan Gerrymandering might violate the Constitution. On 09/03/2019, in Common Cause v. Lewis, the Wake County Superior Court ruled that a state legislative map violated the North Carolina Constitution. In hearings after Bethune-Hill v. Virginia State Board of Elections was remanded on 03/01/2017, the United States District Court for the Eastern District of Virginia held that redistricting in 2011 involved unconstitutional racial Gerrymandering. On 06/27/2019, in Rucho v. Common Cause, the Supreme Court of the United States ruled that federal courts cannot review allegations of partisan Gerrymandering.\n",
        "\n",
        "Gerrymandering works by political parties maximizing the number of districts in a state with a majority of voters favoring that party.  Districts in a state have roughly the same number of voters. States and districts are composed of precincts. All precincts have the same number of voters.\n",
        "\n",
        "We can conduct Gerrymandering as follows. Consider a set of precincts $P = \\{p_1, p_2, ..., p_n\\}$ representing all voters in a state. Let a precinct $p$ contain $m$ voters. The state has $s = mn$ voters. Define a district $D$ as a proper subset of $P$. Determine $d$ districts $D_1, D_2, ..., D_d$ that represent all voters in a state and meet the following criteria. $d = 2$. The number of precincts in $D_1$ is equal to the number of precincts in $D_2$. By extension, the number of voters in $D_1$ is equal to the number of voters in $D_2$. The sum of the number of voters $R(D_1)$ and $R(D_2)$ in $D_1$ and $D_2$ who favor party $R$ is greater than $\\frac{s}{2}$. By extension, the number of voters $R(D_1)$ or $R(D_2)$ in $D_1$ or $D_2$ who favor party $R$ is greater than $\\frac{s}{2d}$. Note if such districts cannot be determined. "
      ]
    },
    {
      "cell_type": "markdown",
      "metadata": {
        "id": "iMX-aytKpLAI"
      },
      "source": [
        "# 2) Dynamic Programming Solution. (20 pts)\n",
        "\n",
        "Formally define the solution and state the recurrence used. Identify how it employs dynamic programming and clearly explain and justify. \n",
        "\n",
        "Solution must 1) Determine if Gerrymandering is possible and if gerrymandering is possible 2) provide the associated precinct re-assignment. Be clear and explain how.\n",
        "\n",
        "Dynamic Programming is a way of solving complex problems by dividing them into similar sub-problems, and then combining the solutions of sub-problems to achieve an overall \"optimal\" solution. The results of sub-problems are memoized; i.e., stored to avoid working on the same sub-problem again and to eliminate unnecessary repetition. Dynamic Programming seeks to solve each sub-problem only once.\n",
        "\n",
        "Dynamic Programming requires \"optimal substructure\"; the solution to a larger problem must contain the solutions to smaller problems.\n",
        "\n",
        "To conduct Dynamic Programming, we will identify a recursive structure of our problem. We will select a good order for solving subproblems. We may solve each problem in a \"top down\" manner or recursively. We may solve each problem in a \"bottom up\" manner or iteratively from smallest problem to largest problem. We will save the solution to each subproblem in memory."
      ]
    },
    {
      "cell_type": "markdown",
      "metadata": {
        "id": "PUtLkgvJ241n"
      },
      "source": [
        "# 3) Implement your Gerrymandering Algorithm (code) (40 pts)\n",
        "\n",
        "Provide ample comments and justify each line of code. You may wish to use or implement a sparse matrix (or something similar) to store the \"memos\". "
      ]
    },
    {
      "cell_type": "code",
      "execution_count": 36,
      "metadata": {
        "id": "AJpRKbIi22Wo"
      },
      "outputs": [],
      "source": [
        "\n",
        "def isGerrymanderPossible(df):\n",
        "  '''\n",
        "  Determines if gerrymandering is possible given a dataframe that contains REP voting and Total votes for princints in two neighboring districts.\n",
        "  It returns True or False, and if True, Prints out the Precinct split and voter split.  \n",
        "\n",
        "  Provide more details about your implementation here ... \n",
        "  '''\n",
        "\n",
        "\n",
        "  #\\< insert code here \\>\n",
        "\n"
      ]
    },
    {
      "cell_type": "markdown",
      "metadata": {
        "id": "vNTUq_irpLAK"
      },
      "source": [
        "# 4) Algorithmic Analysis (10pts)\n",
        "Provide a time complexity analysis of your algorithms in terms of the size and /or parameters of the input. Be clear and precise. Provide comprehensive justification and state all assumptions. \n",
        "\n"
      ]
    },
    {
      "cell_type": "markdown",
      "metadata": {
        "id": "BFouLr3VRey6"
      },
      "source": [
        "# 5) Test your algorithm (5 pts)\n",
        "\n",
        "Run your algorithm on the example data set below. Is gerrymandering possible?\n",
        "Create two other synthtetic data sets (dataframes ... like the one below): one where gerrymandering is possible and one where gerrymandering is not possible. Confirm your hypothesis using your implementation. "
      ]
    },
    {
      "cell_type": "code",
      "execution_count": 37,
      "metadata": {
        "colab": {
          "base_uri": "https://localhost:8080/"
        },
        "id": "j0tloVafRd_I",
        "outputId": "ba629faa-aad5-4900-c7b3-89fdd64288e3"
      },
      "outputs": [
        {
          "name": "stdout",
          "output_type": "stream",
          "text": [
            "GerryMandering is not possible\n"
          ]
        }
      ],
      "source": [
        "precinct_data = pd.DataFrame()\n",
        "precinct_data = precinct_data.append(pd.DataFrame({\"PRECINCT\":\"DUMMY ROW\",\"District\": 0,\"REP_VOTES\":0, \"DEM_VOTES\": 0, \"Total_Votes\": 0},index=[0]))\n",
        "precinct_data = precinct_data.append(pd.DataFrame({\"PRECINCT\":\"92\",\"District\": 1,\"REP_VOTES\":65, \"DEM_VOTES\": 35, \"Total_Votes\": 100},index=[0]))\n",
        "precinct_data = precinct_data.append(pd.DataFrame({\"PRECINCT\":\"93\",\"District\": 1,\"REP_VOTES\":60, \"DEM_VOTES\": 40, \"Total_Votes\": 100},index=[0]))\n",
        "precinct_data = precinct_data.append(pd.DataFrame({\"PRECINCT\":\"94\",\"District\": 2,\"REP_VOTES\":45, \"DEM_VOTES\": 55, \"Total_Votes\": 100},index=[0]))\n",
        "precinct_data = precinct_data.append(pd.DataFrame({\"PRECINCT\":\"95\",\"District\": 2,\"REP_VOTES\":47, \"DEM_VOTES\": 53, \"Total_Votes\": 100},index=[0]))\n",
        "precinct_data.reset_index(inplace = True)    \n",
        "precinct_data.drop('index',axis=1,inplace=True)\n",
        "\n",
        "\n",
        "LetsRun = isGerrymanderPossible(precinct_data)\n",
        "\n",
        "if LetsRun:\n",
        "    print(\"GerryMandering is possible\")\n",
        "else:\n",
        "    print(\"GerryMandering is not possible\")\n",
        "\n",
        "# \\< insert code here. your output should confirm the result\\>\n"
      ]
    },
    {
      "cell_type": "markdown",
      "metadata": {
        "id": "wPARVGjCpLAM"
      },
      "source": [
        "# 6) Real-world Data Trials (15 pts) \n",
        "\n",
        "\n",
        "\n",
        "\n",
        "\n",
        "There are voter data from 5 states available herein: Alaska, Arizona, Kentucky, North Carolina, and Rhode Island. For this question you are asked to analyze Arizona and Kentucky Data. \n",
        "\n",
        "Note: In the example below the data is \"preprocessed\" to match our assumptions and downsized for reasonable experimental runtimes. "
      ]
    },
    {
      "cell_type": "markdown",
      "metadata": {
        "id": "JX_L9nP251-J"
      },
      "source": [
        "### Notes about the tables\n",
        "\n",
        "The create statements are stored in scripts in github including tables.sql.\n",
        "\n",
        "Two tables in the schema:  \n",
        "\n",
        "*  Precinct:  Holds all data for precincts, districts, and number of voter registrations by party.  There is a row for every party in each precinct, so precinct is not a unique key.  Additionally, within states, precinct is not unique, it must be used with district.\n",
        "\n",
        "* Party:  An id and party name, just to keep the party data consistent within our database - party names and abbreviations change between states, but here we want them to be consistent.  Party can be joined with precinct on precinct.party = party.id\n"
      ]
    },
    {
      "cell_type": "code",
      "execution_count": 38,
      "metadata": {
        "colab": {
          "base_uri": "https://localhost:8080/"
        },
        "id": "u_05MUkvDZzE",
        "outputId": "470fe47c-9c39-47bf-b772-2597661f7a3d"
      },
      "outputs": [
        {
          "name": "stdout",
          "output_type": "stream",
          "text": [
            "\n",
            "Tables in the Gerrymander Database\n",
            "\n",
            "\tprecinct\n",
            "\tparty\n"
          ]
        }
      ],
      "source": [
        "## Build the table structure\n",
        "## We have two tables:  party and precinct\n",
        "\n",
        "## The github url for the tables script\n",
        "create_tables = 'https://raw.githubusercontent.com/boltonvandy/gerrymander/main/State_Data/tables.sql'\n",
        "\n",
        "## GET contents of the tables.sql script from github\n",
        "dat = gitread.request(\"GET\", create_tables)\n",
        "\n",
        "## Execute the table creation commands \n",
        "cursor.executescript(dat.data.decode(\"utf-8\"))\n",
        "\n",
        "## Preprocess for algorithm to use\n",
        "view_def = ''' \n",
        "CREATE VIEW for_algo AS\n",
        "SELECT * FROM\n",
        "((SELECT STATE, PRECINCT, DISTRICT, VOTERS as REP_VOTES\n",
        "FROM precinct WHERE PARTY = 'REP') NATURAL JOIN (\n",
        "SELECT STATE, PRECINCT, DISTRICT, SUM(VOTERS) as Total_Votes\n",
        "FROM precinct\n",
        "WHERE (PARTY = 'REP' OR PARTY = 'DEM') \n",
        "GROUP BY STATE, PRECINCT, DISTRICT))\n",
        "'''\n",
        "    \n",
        "cursor.execute(view_def)\n",
        "\n",
        "\n",
        "## Commit Schema Changes\n",
        "conn.commit()\n",
        "\n",
        "## Confirm the names of the tables we built\n",
        "ourtables = cursor.execute(\"SELECT name FROM sqlite_master WHERE type='table'\")\n",
        "\n",
        "if ourtables:\n",
        "  print('\\nTables in the Gerrymander Database\\n')\n",
        "  for atable in ourtables:\n",
        "    print(\"\\t\"+atable[0])\n"
      ]
    },
    {
      "cell_type": "markdown",
      "metadata": {
        "id": "INZPOin09Mix"
      },
      "source": [
        "##Example usage: Arizona\n",
        "\n",
        "Here,the data from Arizona is loaded into the database.  \n",
        "\n",
        "[Original Arizona Data on Kaggle](https://www.kaggle.com/arizonaSecofState/arizona-voter-registration-by-precinct)"
      ]
    },
    {
      "cell_type": "code",
      "execution_count": 39,
      "metadata": {
        "colab": {
          "base_uri": "https://localhost:8080/"
        },
        "id": "FXaIP5nM2tDD",
        "outputId": "50757128-13bb-45e0-faee-d673f56a1eef"
      },
      "outputs": [
        {
          "name": "stdout",
          "output_type": "stream",
          "text": [
            "7270 [(1308384, 'REP'), (1251984, 'OTH'), (1169259, 'DEM'), (32096, 'LBT'), (6535, 'GRN')]\n"
          ]
        }
      ],
      "source": [
        "## Arizona\n",
        "cursor.execute(\"DELETE FROM precinct WHERE STATE = 'AZ'\")\n",
        "conn.commit()\n",
        "\n",
        "az_url = 'https://raw.githubusercontent.com/boltonvandy/gerrymander/main/State_Data/az/az.insert.sql'\n",
        "\n",
        "## GET contents of the script from a github url \n",
        "dat = gitread.request(\"GET\", az_url)\n",
        "\n",
        "## INSERT Data using statements from the github insert script\n",
        "cursor.executescript(dat.data.decode(\"utf-8\"))\n",
        "conn.commit()\n",
        "\n",
        "## Quick verification that data was loaded for this state\n",
        "cursor.execute(\"SELECT count(*) from precinct\")\n",
        "verify = cursor.fetchone()[0]\n",
        "\n",
        "cursor.execute(\"SELECT sum(voters), party from precinct where state = 'AZ' group by party order by 1 DESC\")\n",
        "print(verify, cursor.fetchall())"
      ]
    },
    {
      "cell_type": "markdown",
      "metadata": {
        "id": "LfwaHd8hjGSs"
      },
      "source": [
        "## 6a) Arizona Districts 1,2,&3   (5 out of 15 pts)\n",
        "\n",
        "In this example, assume Districts 1/2 and 2/3 are neighboring and that precincts can be reassigned between them. Confirm (both using your code and manually) that Gerrymandering is possible between districts 2 & 3, but not 1 & 2 (given the preprocessing steps, assumptions, and downsampling done below). For the former, what is the Precinct breakdown? Your answer should be shown as code output. \n"
      ]
    },
    {
      "cell_type": "code",
      "execution_count": 44,
      "metadata": {
        "colab": {
          "base_uri": "https://localhost:8080/"
        },
        "id": "ghZedtBJ4tDk",
        "outputId": "07f0a8fe-cd47-40cb-c411-d96885025d79"
      },
      "outputs": [
        {
          "name": "stdout",
          "output_type": "stream",
          "text": [
            "  STATE PRECINCT DISTRICT  REP_VOTES  Total_Votes\n",
            "0    AZ   CH0001        2         65          100\n",
            "1    AZ   CH0002        2         75          100\n",
            "2    AZ   CH0003        2         63          100\n",
            "3    AZ   CH0004        2         18          100\n",
            "4    AZ   MC0016        3         36          100\n",
            "5    AZ   MC0029        3         76          100\n",
            "6    AZ   MC0037        3         26          100\n",
            "7    AZ   MC0062        3         53          100\n",
            "GerryMandering Not Possible In Arizona District\n"
          ]
        }
      ],
      "source": [
        "import math\n",
        "# To inspect the raw data see here: https://github.com/boltonvandy/gerrymander/tree/main/State_Data\n",
        "\n",
        "# Using top 4 precincts only for each district \n",
        "# Districts 1 and 2 are not gerrymanderable\n",
        "# Districts 2 and 3 are gerrymanderable \n",
        "# Feel free to use the following preprocessing steps\n",
        "#   and downsampling scheme for all experimental trials \n",
        "# Here we assume only 2 parties (Rep and Dem), all voters vote along party lines, and data is \n",
        "#   rescaled to 100 total voters per precinct.\n",
        "\n",
        "\n",
        "# First query database by district and state, take top 4 \n",
        "#   precincts, and append both districts into one dataframe\n",
        "\n",
        "sql = '''\n",
        "SELECT * from for_algo where state = 'AZ' AND ( DISTRICT = 2) \n",
        "'''\n",
        "Arizona_di = pd.read_sql_query(sql, conn)\n",
        "Arizona_di = Arizona_di.head(4)\n",
        "\n",
        "sql = '''\n",
        "SELECT * from for_algo where state = 'AZ' AND ( DISTRICT = 3) \n",
        "'''\n",
        "Arizona_dj = pd.read_sql_query(sql, conn)\n",
        "Arizona_dj = Arizona_dj.head(4)\n",
        "\n",
        "Arizona = Arizona_di.append(Arizona_dj)\n",
        "Arizona = Arizona.reset_index(drop=True)\n",
        "\n",
        "# Rescale data to match our assumptions (for these trials)\n",
        "\n",
        "Arizona[\"REP_VOTES\"] = Arizona[\"REP_VOTES\"] / Arizona[\"Total_Votes\"] \n",
        "Arizona[\"REP_VOTES\"] = pd.Series([math.ceil(Arizona[\"REP_VOTES\"][x]*100) for x in range(len(Arizona.index))])\n",
        "Arizona[\"Total_Votes\"] = pd.Series([100 for x in range(len(Arizona.index))])\n",
        "\n",
        "#Arizona.sort_values(by=['REP_VOTES'], ascending=False ,inplace=True)\n",
        "\n",
        "print(Arizona)\n",
        "\n",
        "if isGerrymanderPossible(Arizona):\n",
        "  print(\"GerryMandering Possible In Arizona District\")\n",
        "else:\n",
        "  print(\"GerryMandering Not Possible In Arizona District\")"
      ]
    },
    {
      "cell_type": "markdown",
      "metadata": {
        "id": "Km2xsQtcB5FC"
      },
      "source": [
        "### 6b) Kentucky Districts   (10 out of 15 pts)\n",
        "\n",
        "In this example, find two districts that are gerrymanderable and two that are not. Perform similar preprocessing steps as done in the Arizona data set, eg select 4 precincts, downsample and rescale. Confirm both district pairs using your code and manually. For the district pair that is gerrymanderable, what is the Precinct breakdown? Your answer should be shown as code output. \n"
      ]
    },
    {
      "cell_type": "code",
      "execution_count": 41,
      "metadata": {
        "colab": {
          "base_uri": "https://localhost:8080/"
        },
        "id": "lKtyVWzivSC7",
        "outputId": "1775f182-c04f-4ec1-c797-5d84b362c3ed"
      },
      "outputs": [
        {
          "name": "stdout",
          "output_type": "stream",
          "text": [
            "40498 [(1649790, 'DEM'), (1576259, 'REP'), (184839, 'OTH'), (131242, 'IND'), (14326, 'LBT'), (2014, 'GRN'), (1012, 'CONST'), (322, 'SOCWK'), (157, 'REFORM')]\n"
          ]
        }
      ],
      "source": [
        "## Kentucky!\n",
        "# NOTE: the Kentucky Districts are stored as Strings. Be sure to build your query correctly :)\n",
        "# See here: https://github.com/boltonvandy/gerrymander/tree/main/State_Data\n",
        "\n",
        "cursor.execute(\"DELETE FROM precinct WHERE STATE = 'KY'\")\n",
        "conn.commit()\n",
        "\n",
        "ky_url = 'https://raw.githubusercontent.com/boltonvandy/gerrymander/main/State_Data/ky/ky.insert.sql'\n",
        "\n",
        "## GET contents of the script from a github url \n",
        "dat = gitread.request(\"GET\", ky_url)\n",
        "\n",
        "## INSERT Data using statements from the github insert script\n",
        "cursor.executescript(dat.data.decode(\"utf-8\"))\n",
        "conn.commit()\n",
        "\n",
        "## Quick verification that data was loaded for this state\n",
        "cursor.execute(\"SELECT count(*) from precinct\")\n",
        "verify = cursor.fetchone()[0]\n",
        "\n",
        "cursor.execute(\"SELECT sum(voters), party from precinct where state = 'KY' group by party order by 1 DESC\")\n",
        "print(verify, cursor.fetchall())"
      ]
    },
    {
      "cell_type": "code",
      "execution_count": 43,
      "metadata": {
        "id": "VLjXj5R4jPgz"
      },
      "outputs": [],
      "source": [
        "#Kentucky\n",
        "\n",
        "#<Insert code answer here>"
      ]
    }
  ],
  "metadata": {
    "colab": {
      "collapsed_sections": [],
      "name": "5012_Mod7_Gerrymander",
      "provenance": []
    },
    "kernelspec": {
      "display_name": "env",
      "language": "python",
      "name": "python3"
    },
    "language_info": {
      "codemirror_mode": {
        "name": "ipython",
        "version": 3
      },
      "file_extension": ".py",
      "mimetype": "text/x-python",
      "name": "python",
      "nbconvert_exporter": "python",
      "pygments_lexer": "ipython3",
      "version": "3.13.3"
    }
  },
  "nbformat": 4,
  "nbformat_minor": 0
}
