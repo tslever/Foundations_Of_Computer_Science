{
  "cells": [
    {
      "cell_type": "markdown",
      "metadata": {
        "id": "PH4k-mzghA46"
      },
      "source": [
        "### CS 5012: Foundations of Computer Science\n",
        "#### Programming Assignment: Computing Edit Distance\n",
        "\n",
        "Last Updated: March 21, 2022\n"
      ]
    },
    {
      "cell_type": "markdown",
      "metadata": {
        "id": "phIN6hQ0hA47"
      },
      "source": [
        "---"
      ]
    },
    {
      "cell_type": "markdown",
      "metadata": {
        "id": "pp4FjyCnhA47"
      },
      "source": [
        "**INSTRUCTIONS**\n",
        "\n",
        "Recall that *edit distance* is used to quantify the dissimilarity of two strings.  \n",
        "This is done by counting the minimum number of operations required to transform one string into the other.\n",
        "\n",
        "The operations we will consider are:\n",
        "- delete a character (**H**ello -> ello)\n",
        "- insert a character (ello -> **H**ello)\n",
        "- substitute a character (**t**op -> **b**op)\n",
        "\n",
        "We apply a penalty of 1 for each of these operations.\n",
        "\n",
        "Example:\n",
        "- string1: Hello\n",
        "- string2: elllo\n",
        "\n",
        "edit_distance(Hello,elllo) = 2\n",
        "\n",
        "Starting with *elllo* for example:   \n",
        "elllo -> **H**elllo (insert H: +1)   \n",
        "Hel**l**lo -> Hello (delete l: +1)\n",
        "\n",
        "The strings now match after two operations.\n",
        "\n",
        "Solve all tasks below, showing code and results.  \n",
        "Submit your completed file.\n",
        "\n",
        "\n",
        "**TOTAL POINTS: 10**\n",
        "\n",
        "---"
      ]
    },
    {
      "cell_type": "markdown",
      "metadata": {
        "id": "K4prDT3hhA48"
      },
      "source": [
        "1) (6 POINTS) Write a function that take two strings as input, and computes and returns their edit distance. Use a matrix (as in LCS calculations) to track results, and have the function print the matrix."
      ]
    },
    {
      "cell_type": "code",
      "execution_count": null,
      "metadata": {
        "colab": {
          "base_uri": "https://localhost:8080/"
        },
        "id": "r9esoMoPhA48",
        "outputId": "ac1ec048-d273-4d14-f70e-9fba3522a668"
      },
      "outputs": [
        {
          "output_type": "stream",
          "name": "stdout",
          "text": [
            "raw matrix\n",
            "[[0 1 2 3 4 5]\n",
            " [1 1 2 3 4 5]\n",
            " [2 1 2 3 4 5]\n",
            " [3 2 1 2 3 4]\n",
            " [4 3 2 1 2 3]\n",
            " [5 4 3 2 2 2]]\n",
            "\n",
            "annotated matrix\n",
            "    e l l l o\n",
            "  0 1 2 3 4 5\n",
            "H 1 1 2 3 4 5\n",
            "e 2 1 2 3 4 5\n",
            "l 3 2 1 2 3 4\n",
            "l 4 3 2 1 2 3\n",
            "o 5 4 3 2 2 2\n",
            "\n",
            "The edit distance between strings \"Hello\" and \"elllo\" is 2.\n"
          ]
        }
      ],
      "source": [
        "import numpy as np\n",
        "\n",
        "\n",
        "# https://en.wikipedia.org/wiki/Wagner%E2%80%93Fischer_algorithm\n",
        "def compute_edit_distance(string_1: str, string_2: str) -> int:\n",
        "    length_of_string_1 = len(string_1)\n",
        "    length_of_string_2 = len(string_2)\n",
        "\n",
        "    number_of_rows = length_of_string_1 + 1\n",
        "    number_of_columns = length_of_string_2 + 1\n",
        "    matrix = np.zeros((number_of_rows, number_of_columns), dtype = int)\n",
        "\n",
        "    matrix[:, 0] = np.arange(0, length_of_string_1 + 1)\n",
        "    matrix[0, :] = np.arange(0, length_of_string_2 + 1)\n",
        "\n",
        "    for i in range(1, length_of_string_1 + 1):\n",
        "        for j in range(1, length_of_string_2 + 1):\n",
        "            if string_1[i - 1] == string_2[j - 1]:\n",
        "                penalty = 0\n",
        "            else:\n",
        "                penalty = 1\n",
        "            matrix[i, j] = min(\n",
        "                matrix[i - 1, j] + 1,\n",
        "                matrix[i, j - 1] + 1,\n",
        "                matrix[i - 1, j - 1] + penalty\n",
        "            )\n",
        "\n",
        "    print(\"raw matrix\")\n",
        "    print(matrix)\n",
        "\n",
        "    print(\"\\nannotated matrix\")\n",
        "    string_consisting_of_space_representing_empty_string_and_string_1 = ' ' + string_1\n",
        "    string_consisting_of_space_representing_empty_string_and_string_2 = ' ' + string_2\n",
        "    annotated_matrix = \"  \" + ' '.join(string_consisting_of_space_representing_empty_string_and_string_2)\n",
        "    for i in range(0, length_of_string_1 + 1):\n",
        "        annotated_matrix += '\\n' + string_consisting_of_space_representing_empty_string_and_string_1[i] + ' ' + ' '.join(str(x) for x in matrix[i])\n",
        "    print(annotated_matrix)\n",
        "\n",
        "    edit_distance = matrix[length_of_string_1, length_of_string_2]\n",
        "\n",
        "    return edit_distance\n",
        "\n",
        "#string_1 = \"sitting\"\n",
        "#string_2 = \"kitten\"\n",
        "\n",
        "string_1 = \"Hello\"\n",
        "string_2 = \"elllo\"\n",
        "\n",
        "edit_distance = compute_edit_distance(string_1, string_2)\n",
        "print(f\"\\nThe edit distance between strings \\\"{string_1}\\\" and \\\"{string_2}\\\" is {edit_distance}.\")"
      ]
    },
    {
      "cell_type": "markdown",
      "metadata": {
        "id": "xLU9sz1BhA48"
      },
      "source": [
        "2) (1 POINT) Compute edit distance between **Bellman** and empty string"
      ]
    },
    {
      "cell_type": "code",
      "execution_count": null,
      "metadata": {
        "colab": {
          "base_uri": "https://localhost:8080/"
        },
        "id": "8CMj0tfthA48",
        "outputId": "02930aae-95c3-43ba-899a-70ae2f47a1ac"
      },
      "outputs": [
        {
          "output_type": "stream",
          "name": "stdout",
          "text": [
            "raw matrix\n",
            "[[0]\n",
            " [1]\n",
            " [2]\n",
            " [3]\n",
            " [4]\n",
            " [5]\n",
            " [6]\n",
            " [7]]\n",
            "\n",
            "annotated matrix\n",
            "   \n",
            "  0\n",
            "B 1\n",
            "e 2\n",
            "l 3\n",
            "l 4\n",
            "m 5\n",
            "a 6\n",
            "n 7\n",
            "\n",
            "The edit distance between strings \"Bellman\" and \"\" is 7.\n"
          ]
        }
      ],
      "source": [
        "string_1 = \"Bellman\"\n",
        "string_2 = \"\"\n",
        "\n",
        "edit_distance = compute_edit_distance(string_1, string_2)\n",
        "print(f\"\\nThe edit distance between strings \\\"{string_1}\\\" and \\\"{string_2}\\\" is {edit_distance}.\")"
      ]
    },
    {
      "cell_type": "markdown",
      "metadata": {
        "id": "aJ_3wtcthA48"
      },
      "source": [
        "3)  (1 POINT) Compute edit distance between **test** and **test**"
      ]
    },
    {
      "cell_type": "code",
      "execution_count": null,
      "metadata": {
        "colab": {
          "base_uri": "https://localhost:8080/"
        },
        "id": "7MBGnlckhA48",
        "outputId": "2d80adfb-126d-406e-c6b6-eee96cb1e9e1"
      },
      "outputs": [
        {
          "output_type": "stream",
          "name": "stdout",
          "text": [
            "raw matrix\n",
            "[[0 1 2 3 4]\n",
            " [1 0 1 2 3]\n",
            " [2 1 0 1 2]\n",
            " [3 2 1 0 1]\n",
            " [4 3 2 1 0]]\n",
            "\n",
            "annotated matrix\n",
            "    t e s t\n",
            "  0 1 2 3 4\n",
            "t 1 0 1 2 3\n",
            "e 2 1 0 1 2\n",
            "s 3 2 1 0 1\n",
            "t 4 3 2 1 0\n",
            "\n",
            "The edit distance between strings \"test\" and \"test\" is 0.\n"
          ]
        }
      ],
      "source": [
        "string_1 = \"test\"\n",
        "string_2 = \"test\"\n",
        "\n",
        "edit_distance = compute_edit_distance(string_1, string_2)\n",
        "print(f\"\\nThe edit distance between strings \\\"{string_1}\\\" and \\\"{string_2}\\\" is {edit_distance}.\")"
      ]
    },
    {
      "cell_type": "markdown",
      "metadata": {
        "id": "FPYn7x3mhA48"
      },
      "source": [
        "4a)  (1 POINT) Compute edit distance between **mailman** and **namliam**"
      ]
    },
    {
      "cell_type": "code",
      "execution_count": null,
      "metadata": {
        "colab": {
          "base_uri": "https://localhost:8080/"
        },
        "id": "-JfTRMdxhA48",
        "outputId": "cf0153f9-b115-4fe8-8347-04467536ac72"
      },
      "outputs": [
        {
          "output_type": "stream",
          "name": "stdout",
          "text": [
            "raw matrix\n",
            "[[0 1 2 3 4 5 6 7]\n",
            " [1 1 2 2 3 4 5 6]\n",
            " [2 2 1 2 3 4 4 5]\n",
            " [3 3 2 2 3 3 4 5]\n",
            " [4 4 3 3 2 3 4 5]\n",
            " [5 5 4 3 3 3 4 4]\n",
            " [6 6 5 4 4 4 3 4]\n",
            " [7 6 6 5 5 5 4 4]]\n",
            "\n",
            "annotated matrix\n",
            "    n a m l i a m\n",
            "  0 1 2 3 4 5 6 7\n",
            "m 1 1 2 2 3 4 5 6\n",
            "a 2 2 1 2 3 4 4 5\n",
            "i 3 3 2 2 3 3 4 5\n",
            "l 4 4 3 3 2 3 4 5\n",
            "m 5 5 4 3 3 3 4 4\n",
            "a 6 6 5 4 4 4 3 4\n",
            "n 7 6 6 5 5 5 4 4\n",
            "\n",
            "The edit distance between strings \"mailman\" and \"namliam\" is 4.\n"
          ]
        }
      ],
      "source": [
        "string_1 = \"mailman\"\n",
        "string_2 = \"namliam\"\n",
        "\n",
        "edit_distance = compute_edit_distance(string_1, string_2)\n",
        "print(f\"\\nThe edit distance between strings \\\"{string_1}\\\" and \\\"{string_2}\\\" is {edit_distance}.\")"
      ]
    },
    {
      "cell_type": "markdown",
      "metadata": {
        "id": "AFYYwFIghA48"
      },
      "source": [
        "4b)  (1 POINT) Show each step of the process to change **mailman** to **namliam**.\n",
        "\n",
        "This should verify the edit distance. You might find your solution from (4a) helpful."
      ]
    },
    {
      "cell_type": "markdown",
      "source": [],
      "metadata": {
        "id": "A4SjpQ59-_BV"
      }
    },
    {
      "cell_type": "markdown",
      "metadata": {
        "id": "auCFrZGPhA49"
      },
      "source": [
        "Given that when we stack \"mailman\" and \"namliam\" there are 4 pairs of distinct characters and that the edit distance (the minimum number of operations required to transform one string into the other) between \"mailman\" and \"namliam\" is 4, we substitute 4 characters from left to right in \"mailman\" to generate \"namliam\". Changing characters in pairs of identical characters or deleting from and inserting into a string with 7 characters would contribute to more than 4 operations occurring. Following the diagonal of our matrix from bottom right to top left, first, we substitute 'm' for 'n' at position 6 in \"namlian\" to form \"namliam\". Second, we substitute 'i' for the 'm' at position 4 in \"namlman\" to form \"namlian\". Third, we substitute 'm' for 'i' at position 2 in \"nailman\" to form \"namlman\". Fourth, we substitute 'n' for the 'm' at position 0 in \"mailman\" and form \"nailman\".\n",
        "\n",
        "A transition from a 4 at position (7, 7) in our matrix to a 3 at position (6, 6) represents a difference in characters 'n' and 'm' at position 6 in \"mailman\" and \"namliam\" and our transition from 'n' to 'm'. Moving diagonally from 3 and 3 represents that 'a' at position 5 is the same for both strings. A transition between 3 and 2 represents a difference in characters 'm' and 'i' at position 4 and our transition from 'm' to 'i'. Moving diagonally from 2 and 2 represents that 'l' at position 3 is the same for both strings. A transition between 2 and 1 represents a difference in characters 'i' and 'm' at position 2 and our transition from 'i' to 'm'. Moving diagonally from 1 and 1 represents that 'a' at position 1 is the same for both strings. A transition between 1 and 0 represents a difference in characters 'm' and 'n' at position 0 and our transition from 'm' to 'n'."
      ]
    }
  ],
  "metadata": {
    "kernelspec": {
      "display_name": "Python 3",
      "language": "python",
      "name": "python3"
    },
    "language_info": {
      "codemirror_mode": {
        "name": "ipython",
        "version": 3
      },
      "file_extension": ".py",
      "mimetype": "text/x-python",
      "name": "python",
      "nbconvert_exporter": "python",
      "pygments_lexer": "ipython3",
      "version": "3.8.8"
    },
    "colab": {
      "provenance": []
    }
  },
  "nbformat": 4,
  "nbformat_minor": 0
}